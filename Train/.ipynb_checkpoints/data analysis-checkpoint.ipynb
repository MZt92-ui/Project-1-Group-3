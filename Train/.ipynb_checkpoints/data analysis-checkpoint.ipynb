{
 "cells": [
  {
   "cell_type": "markdown",
   "id": "a3bd5722",
   "metadata": {},
   "source": [
    "# Railroad Accident/Incident Analysis in US\n",
    "\n",
    "\n",
    "\n",
    "#### Data Source:\n",
    "Rail Equipment Accident/Incident Data from FRA in the US Department of Transportation <br/>\n",
    "https://data.transportation.gov/Railroads/Rail-Equipment-Accident-Incident-Data/85tf-25kj"
   ]
  },
  {
   "cell_type": "code",
   "execution_count": 21,
   "id": "0d8eaa00",
   "metadata": {},
   "outputs": [],
   "source": [
    "import pandas as pd\n",
    "import matplotlib.pyplot as plt"
   ]
  },
  {
   "cell_type": "markdown",
   "id": "f241da0f",
   "metadata": {},
   "source": [
    "## 1. Data Scope\n",
    "1. Year recorded<br/>\n",
    "2. what type of trains considered<br/>\n",
    "3. what type of accident recorded<br/>"
   ]
  },
  {
   "cell_type": "code",
   "execution_count": 18,
   "id": "1151eb40",
   "metadata": {},
   "outputs": [
    {
     "name": "stdout",
     "output_type": "stream",
     "text": [
      "There are 214157 records availabe and 159 information recorded\n",
      "-------------------------------------------------------\n",
      "The datasets record year from 1975.0 to 2022.0\n",
      "-------------------------------------------------------\n",
      "['Fire/violent rupture' 'Other impacts' 'Side collision' 'Derailment'\n",
      " 'Broken train collision' 'Hwy-rail crossing'\n",
      " 'Other (describe in narrative)' 'Rear end collision' 'Obstruction'\n",
      " 'Head on collision' 'Explosion-detonation' 'Raking collision'\n",
      " 'RR grade crossing' nan]\n",
      "-------------------------------------------------------\n",
      "['Passenger Train - Pulling' 'Single Car' 'Freight Train' 'Yard/switching'\n",
      " 'Light loco(s)' 'Cut of cars' nan 'Passenger Train - Pushing'\n",
      " 'Maint./inspect Car' 'EMU' 'Work train' 'Spec. MoW Equip.'\n",
      " 'Commuter Train - Pulling' 'Commuter Train - Pushing' 'DMU']\n",
      "-------------------------------------------------------\n",
      "['Main' 'Yard' 'Industry' nan 'Siding']\n"
     ]
    }
   ],
   "source": [
    "data = pd.read_csv(\"../../Test Data/Rail_Equipment_Accident_Incident_Data.csv\")\n",
    "print(f\"There are {data.shape[0]} records availabe and {data.shape[1]} information recorded\")\n",
    "print(\"-------------------------------------------------------\")\n",
    "# available information is listed and explained in the above link\n",
    "year_since = data[\"Report Year\"].min()\n",
    "year_to = data[\"Report Year\"].max()\n",
    "print(f\"The datasets record year from {year_since} to {year_to}\")\n",
    "print(\"-------------------------------------------------------\")\n",
    "print(data[\"Accident Type\"].unique())\n",
    "print(\"-------------------------------------------------------\")\n",
    "print(data[\"Equipment Type\"].unique())\n",
    "print(\"-------------------------------------------------------\")\n",
    "print(data[\"Track Type\"].unique())"
   ]
  },
  {
   "cell_type": "markdown",
   "id": "12dd96ad",
   "metadata": {},
   "source": [
    "## 2. Train Accident Overview\n",
    "Question to be addressed:<br/>\n",
    "Whether there is any improvement on reducing train accidents no during recent years?"
   ]
  },
  {
   "cell_type": "code",
   "execution_count": 30,
   "id": "d3d7d813",
   "metadata": {},
   "outputs": [
    {
     "data": {
      "image/png": "[encoded data removed]",
      "text/plain": [
       "<Figure size 432x288 with 1 Axes>"
      ]
     },
     "metadata": {
      "needs_background": "light"
     },
     "output_type": "display_data"
    },
    {
     "data": {
      "text/plain": [
       "<Figure size 432x288 with 0 Axes>"
      ]
     },
     "metadata": {},
     "output_type": "display_data"
    }
   ],
   "source": [
    "# Investigate 30 years\n",
    "overview_df = data.loc[(data[\"Report Year\"] >= 1992.0) & (data[\"Report Year\"]<=2021.0)]\n",
    "group_year = overview_df.groupby(\"Report Year\")\n",
    "group_year[[\"Accident Number\"]].count().plot(kind=\"line\",title=\"No of Accidents in Recent 30 Years\", ylabel=\"No of Accidents\")\n",
    "plt.show()\n",
    "plt.savefig(\"Train Accident Overview.jpg\")"
   ]
  },
  {
   "cell_type": "markdown",
   "id": "7b171506",
   "metadata": {},
   "source": [
    "## 3. Train Accident by Cause\n",
    "Question to be addressed:<br/>\n",
    "What is the major factor contributiong to accidents during recent years?<br/>\n",
    "\n",
    "Additional data source: accident cause code<br/>\n",
    "https://railroads.dot.gov/forms-guides-publications/guides/train-accident-cause-codes-file"
   ]
  },
  {
   "cell_type": "code",
   "execution_count": 116,
   "id": "1f4c4f43",
   "metadata": {},
   "outputs": [
    {
     "name": "stdout",
     "output_type": "stream",
     "text": [
      "There are 390 kinds of causes in total\n",
      "-------------------------------------------------------\n",
      "There are 390 kinds of causes recorded\n"
     ]
    }
   ],
   "source": [
    "data_cause = pd.read_csv(\"../../Test Data/Appendix C_Train_Accident_Cause_Codes.csv\")[[\"Code\",\"Title\"]]\n",
    "cause_ls = len(data_cause[\"Code\"].unique())\n",
    "record_ls = len(data[\"Primary Accident Cause Code\"].unique())\n",
    "print(f\"There are {cause_ls} kinds of causes in total\")\n",
    "print(\"-------------------------------------------------------\")\n",
    "print(f\"There are {record_ls} kinds of causes recorded\")"
   ]
  },
  {
   "cell_type": "code",
   "execution_count": 129,
   "id": "13e80818",
   "metadata": {},
   "outputs": [
    {
     "data": {
      "text/html": [
       "<div>\n",
       "<style scoped>\n",
       "    .dataframe tbody tr th:only-of-type {\n",
       "        vertical-align: middle;\n",
       "    }\n",
       "\n",
       "    .dataframe tbody tr th {\n",
       "        vertical-align: top;\n",
       "    }\n",
       "\n",
       "    .dataframe thead th {\n",
       "        text-align: right;\n",
       "    }\n",
       "</style>\n",
       "<table border=\"1\" class=\"dataframe\">\n",
       "  <thead>\n",
       "    <tr style=\"text-align: right;\">\n",
       "      <th></th>\n",
       "      <th>Report Year</th>\n",
       "      <th>Accident Number</th>\n",
       "      <th>Primary Accident Cause Code</th>\n",
       "      <th>Code</th>\n",
       "      <th>Title</th>\n",
       "    </tr>\n",
       "  </thead>\n",
       "  <tbody>\n",
       "    <tr>\n",
       "      <th>0</th>\n",
       "      <td>2011.0</td>\n",
       "      <td>20110041</td>\n",
       "      <td>M406</td>\n",
       "      <td>M406</td>\n",
       "      <td>Miscellaneous Causes Not Otherwise Listed</td>\n",
       "    </tr>\n",
       "    <tr>\n",
       "      <th>1</th>\n",
       "      <td>2010.0</td>\n",
       "      <td>000074975</td>\n",
       "      <td>S016</td>\n",
       "      <td>S016</td>\n",
       "      <td>Signal and Communication</td>\n",
       "    </tr>\n",
       "    <tr>\n",
       "      <th>2</th>\n",
       "      <td>1998.0</td>\n",
       "      <td>059812027</td>\n",
       "      <td>E21C</td>\n",
       "      <td>E21C</td>\n",
       "      <td>Mechanical and Electrical Failures</td>\n",
       "    </tr>\n",
       "    <tr>\n",
       "      <th>3</th>\n",
       "      <td>1987.0</td>\n",
       "      <td>WA17</td>\n",
       "      <td>H702</td>\n",
       "      <td>H702</td>\n",
       "      <td>Train operation - Human Factors</td>\n",
       "    </tr>\n",
       "    <tr>\n",
       "      <th>4</th>\n",
       "      <td>2007.0</td>\n",
       "      <td>543854</td>\n",
       "      <td>T311</td>\n",
       "      <td>T311</td>\n",
       "      <td>Rack, Roadbed and Structures</td>\n",
       "    </tr>\n",
       "  </tbody>\n",
       "</table>\n",
       "</div>"
      ],
      "text/plain": [
       "   Report Year Accident Number Primary Accident Cause Code   Code  \\\n",
       "0       2011.0        20110041                        M406  M406    \n",
       "1       2010.0       000074975                        S016  S016    \n",
       "2       1998.0       059812027                        E21C  E21C    \n",
       "3       1987.0            WA17                        H702  H702    \n",
       "4       2007.0          543854                        T311  T311    \n",
       "\n",
       "                                       Title  \n",
       "0  Miscellaneous Causes Not Otherwise Listed  \n",
       "1                   Signal and Communication  \n",
       "2         Mechanical and Electrical Failures  \n",
       "3            Train operation - Human Factors  \n",
       "4               Rack, Roadbed and Structures  "
      ]
     },
     "execution_count": 129,
     "metadata": {},
     "output_type": "execute_result"
    }
   ],
   "source": [
    "# The above figures imply that each record in datasets could find a cause from the reference dataset\n",
    "# however, when further investigating, the format of reference dataset is different from the records\n",
    "# needs further cleaning\n",
    "data_cause = data_cause.dropna()\n",
    "\n",
    "new_code=[]\n",
    "for i in range(len(data_cause.Code)):\n",
    "    new = data_cause[\"Code\"][i][:4]\n",
    "    new_code.append(new)\n",
    "\n",
    "data_cause[\"Primary Accident Cause Code\"] = new_code\n",
    "data2 = data[[\"Report Year\",\"Accident Number\",\"Primary Accident Cause Code\"]]\n",
    "data_cause_ana = pd.merge(data2,data_cause,how=\"left\",on=\"Primary Accident Cause Code\")\n",
    "data_cause_ana.head()"
   ]
  },
  {
   "cell_type": "code",
   "execution_count": 143,
   "id": "bdf26852",
   "metadata": {},
   "outputs": [
    {
     "data": {
      "image/png": "[encoded data removed]",
      "text/plain": [
       "<Figure size 432x288 with 1 Axes>"
      ]
     },
     "metadata": {
      "needs_background": "light"
     },
     "output_type": "display_data"
    }
   ],
   "source": [
    "# 10 years are investigated\n",
    "data_cause_ana = data_cause_ana.loc[(data_cause_ana[\"Report Year\"]>=2012)&(data_cause_ana[\"Report Year\"]<=2021)]\n",
    "data_cause_plot = data_cause_ana.groupby(\"Title\")[[\"Accident Number\"]].count().sort_values(by=\"Accident Number\",ascending=False)\n",
    "data_cause_plot.plot.bar()\n",
    "plt.show()"
   ]
  },
  {
   "cell_type": "markdown",
   "id": "ff8fbfc3",
   "metadata": {},
   "source": [
    "## 4. Train Accident by Type\n",
    "Question to be addressed:<br/>\n",
    "What is the primary accident types during recent years?"
   ]
  },
  {
   "cell_type": "code",
   "execution_count": 145,
   "id": "4162628e",
   "metadata": {},
   "outputs": [
    {
     "data": {
      "text/plain": [
       "array(['Fire/violent rupture', 'Other impacts', 'Side collision',\n",
       "       'Derailment', 'Broken train collision', 'Hwy-rail crossing',\n",
       "       'Other (describe in narrative)', 'Rear end collision',\n",
       "       'Obstruction', 'Head on collision', 'Explosion-detonation',\n",
       "       'Raking collision', 'RR grade crossing', nan], dtype=object)"
      ]
     },
     "execution_count": 145,
     "metadata": {},
     "output_type": "execute_result"
    }
   ],
   "source": [
    "data[\"Accident Type\"].unique()"
   ]
  },
  {
   "cell_type": "markdown",
   "id": "82efb8f1",
   "metadata": {},
   "source": [
    "There seems to be no standard for categorising types of accidents <br/>\n",
    "so investigate one year data as an example and some common sense to determine the type"
   ]
  },
  {
   "cell_type": "code",
   "execution_count": 146,
   "id": "ec12b36b",
   "metadata": {},
   "outputs": [],
   "source": [
    "de = [\"Derailment\"]\n",
    "ob = [\"Obstruction\"]\n",
    "cr = [\"Hwy-rail crossing\",\"RR grade crossing\"]\n",
    "co = [\"Side collision\",\"Broken train collision\",\"Rear end collision\",\"Head on collision\",\"Raking collision\"]\n",
    "oth = [\"Fire/violent rupture\",\"Explosion-detonation\",\"Other (describe in narrative)\",\"Other impacts\"]\n",
    "\n",
    "data3 = data[[\"Report Year\",\"Accident Number\",\"Accident Type\"]]\n"
   ]
  },
  {
   "cell_type": "code",
   "execution_count": 147,
   "id": "fe240e48",
   "metadata": {},
   "outputs": [],
   "source": [
    "type_list = []\n",
    "\n",
    "for i in range(len(data3[\"Accident Type\"])):\n",
    "    acc_type = data3[\"Accident Type\"][i]\n",
    "    \n",
    "    if acc_type in de:\n",
    "        type_list.append(\"Derailment\")\n",
    "    elif acc_type in ob:\n",
    "        type_list.append(\"Obstruction\")\n",
    "    elif acc_type in cr:\n",
    "        type_list.append(\"Crossing\")\n",
    "    elif acc_type in co:\n",
    "        type_list.append(\"Collision\")\n",
    "    elif acc_type in oth:\n",
    "        type_list.append(\"Other Impacts\")\n",
    "    else:\n",
    "        type_list.append(\"Not Available\")"
   ]
  },
  {
   "cell_type": "code",
   "execution_count": 148,
   "id": "e88c48d3",
   "metadata": {},
   "outputs": [
    {
     "name": "stderr",
     "output_type": "stream",
     "text": [
      "C:\\Users\\Eva\\anaconda3\\envs\\bootcamp\\lib\\site-packages\\ipykernel_launcher.py:1: SettingWithCopyWarning: \n",
      "A value is trying to be set on a copy of a slice from a DataFrame.\n",
      "Try using .loc[row_indexer,col_indexer] = value instead\n",
      "\n",
      "See the caveats in the documentation: https://pandas.pydata.org/pandas-docs/stable/user_guide/indexing.html#returning-a-view-versus-a-copy\n",
      "  \"\"\"Entry point for launching an IPython kernel.\n"
     ]
    },
    {
     "data": {
      "text/html": [
       "<div>\n",
       "<style scoped>\n",
       "    .dataframe tbody tr th:only-of-type {\n",
       "        vertical-align: middle;\n",
       "    }\n",
       "\n",
       "    .dataframe tbody tr th {\n",
       "        vertical-align: top;\n",
       "    }\n",
       "\n",
       "    .dataframe thead th {\n",
       "        text-align: right;\n",
       "    }\n",
       "</style>\n",
       "<table border=\"1\" class=\"dataframe\">\n",
       "  <thead>\n",
       "    <tr style=\"text-align: right;\">\n",
       "      <th></th>\n",
       "      <th>Report Year</th>\n",
       "      <th>Accident Number</th>\n",
       "      <th>Accident Type</th>\n",
       "      <th>Type_cat</th>\n",
       "    </tr>\n",
       "  </thead>\n",
       "  <tbody>\n",
       "    <tr>\n",
       "      <th>0</th>\n",
       "      <td>2011.0</td>\n",
       "      <td>20110041</td>\n",
       "      <td>Fire/violent rupture</td>\n",
       "      <td>Other Impacts</td>\n",
       "    </tr>\n",
       "    <tr>\n",
       "      <th>1</th>\n",
       "      <td>2010.0</td>\n",
       "      <td>000074975</td>\n",
       "      <td>Other impacts</td>\n",
       "      <td>Other Impacts</td>\n",
       "    </tr>\n",
       "    <tr>\n",
       "      <th>2</th>\n",
       "      <td>1998.0</td>\n",
       "      <td>059812027</td>\n",
       "      <td>Other impacts</td>\n",
       "      <td>Other Impacts</td>\n",
       "    </tr>\n",
       "    <tr>\n",
       "      <th>3</th>\n",
       "      <td>1987.0</td>\n",
       "      <td>WA17</td>\n",
       "      <td>Side collision</td>\n",
       "      <td>Collision</td>\n",
       "    </tr>\n",
       "    <tr>\n",
       "      <th>4</th>\n",
       "      <td>2007.0</td>\n",
       "      <td>543854</td>\n",
       "      <td>Derailment</td>\n",
       "      <td>Derailment</td>\n",
       "    </tr>\n",
       "  </tbody>\n",
       "</table>\n",
       "</div>"
      ],
      "text/plain": [
       "   Report Year Accident Number         Accident Type       Type_cat\n",
       "0       2011.0        20110041  Fire/violent rupture  Other Impacts\n",
       "1       2010.0       000074975         Other impacts  Other Impacts\n",
       "2       1998.0       059812027         Other impacts  Other Impacts\n",
       "3       1987.0            WA17        Side collision      Collision\n",
       "4       2007.0          543854            Derailment     Derailment"
      ]
     },
     "execution_count": 148,
     "metadata": {},
     "output_type": "execute_result"
    }
   ],
   "source": [
    "data3[\"Type_cat\"] = type_list\n",
    "data3.head()"
   ]
  },
  {
   "cell_type": "code",
   "execution_count": 150,
   "id": "f057e1ac",
   "metadata": {},
   "outputs": [
    {
     "data": {
      "text/plain": [
       "(214157, 4)"
      ]
     },
     "execution_count": 150,
     "metadata": {},
     "output_type": "execute_result"
    }
   ],
   "source": [
    "data3.shape"
   ]
  },
  {
   "cell_type": "markdown",
   "id": "9435b210",
   "metadata": {},
   "source": [
    "## 5. Train Accident in States\n",
    "Question to be addressed:<br/>\n",
    "Which state has the most accident happended in recent years?"
   ]
  },
  {
   "cell_type": "markdown",
   "id": "e1dc084d",
   "metadata": {},
   "source": [
    "### 5.1 Fatality by state\n",
    "\n",
    "#### Period\" for last 11 years: 2010 - 2020"
   ]
  },
  {
   "cell_type": "code",
   "execution_count": 9,
   "id": "111aabf9",
   "metadata": {},
   "outputs": [
    {
     "data": {
      "text/html": [
       "<div>\n",
       "<style scoped>\n",
       "    .dataframe tbody tr th:only-of-type {\n",
       "        vertical-align: middle;\n",
       "    }\n",
       "\n",
       "    .dataframe tbody tr th {\n",
       "        vertical-align: top;\n",
       "    }\n",
       "\n",
       "    .dataframe thead th {\n",
       "        text-align: right;\n",
       "    }\n",
       "</style>\n",
       "<table border=\"1\" class=\"dataframe\">\n",
       "  <thead>\n",
       "    <tr style=\"text-align: right;\">\n",
       "      <th></th>\n",
       "      <th>State Name</th>\n",
       "      <th>Report Year</th>\n",
       "      <th>Total Persons Killed</th>\n",
       "    </tr>\n",
       "  </thead>\n",
       "  <tbody>\n",
       "    <tr>\n",
       "      <th>0</th>\n",
       "      <td>ALASKA</td>\n",
       "      <td>2011.0</td>\n",
       "      <td>0.0</td>\n",
       "    </tr>\n",
       "    <tr>\n",
       "      <th>1</th>\n",
       "      <td>ALABAMA</td>\n",
       "      <td>2010.0</td>\n",
       "      <td>0.0</td>\n",
       "    </tr>\n",
       "    <tr>\n",
       "      <th>5</th>\n",
       "      <td>ALABAMA</td>\n",
       "      <td>2010.0</td>\n",
       "      <td>0.0</td>\n",
       "    </tr>\n",
       "    <tr>\n",
       "      <th>6</th>\n",
       "      <td>ALABAMA</td>\n",
       "      <td>2010.0</td>\n",
       "      <td>0.0</td>\n",
       "    </tr>\n",
       "    <tr>\n",
       "      <th>8</th>\n",
       "      <td>ALABAMA</td>\n",
       "      <td>2013.0</td>\n",
       "      <td>0.0</td>\n",
       "    </tr>\n",
       "  </tbody>\n",
       "</table>\n",
       "</div>"
      ],
      "text/plain": [
       "  State Name  Report Year  Total Persons Killed\n",
       "0     ALASKA       2011.0                   0.0\n",
       "1    ALABAMA       2010.0                   0.0\n",
       "5    ALABAMA       2010.0                   0.0\n",
       "6    ALABAMA       2010.0                   0.0\n",
       "8    ALABAMA       2013.0                   0.0"
      ]
     },
     "execution_count": 9,
     "metadata": {},
     "output_type": "execute_result"
    }
   ],
   "source": [
    "data_fatality = data[[\"State Name\",\"Report Year\",\"Total Persons Killed\"]]\n",
    "data_fatality = data_fatality.loc[(data_fatality[\"Report Year\"] >= 2010.0) & (data_fatality[\"Report Year\"]<=2020.0) ]\n",
    "data_fatality.head()"
   ]
  },
  {
   "cell_type": "code",
   "execution_count": 14,
   "id": "52d32d37",
   "metadata": {},
   "outputs": [
    {
     "data": {
      "text/plain": [
       "State Name\n",
       "ALABAMA                 18.0\n",
       "ALASKA                   0.0\n",
       "ARIZONA                  8.0\n",
       "ARKANSAS                11.0\n",
       "CALIFORNIA              82.0\n",
       "COLORADO                17.0\n",
       "CONNECTICUT              0.0\n",
       "DELAWARE                 0.0\n",
       "DISTRICT OF COLUMBIA     0.0\n",
       "FLORIDA                 70.0\n",
       "GEORGIA                 12.0\n",
       "IDAHO                    5.0\n",
       "ILLINOIS                50.0\n",
       "INDIANA                 21.0\n",
       "IOWA                     8.0\n",
       "KANSAS                   9.0\n",
       "KENTUCKY                 5.0\n",
       "LOUISIANA               21.0\n",
       "MAINE                    2.0\n",
       "MARYLAND                 7.0\n",
       "MASSACHUSETTS            5.0\n",
       "MICHIGAN                 8.0\n",
       "MINNESOTA               12.0\n",
       "MISSISSIPPI             24.0\n",
       "MISSOURI                10.0\n",
       "MONTANA                  9.0\n",
       "NEBRASKA                 5.0\n",
       "NEVADA                  12.0\n",
       "NEW HAMPSHIRE            0.0\n",
       "NEW JERSEY               7.0\n",
       "NEW MEXICO               7.0\n",
       "NEW YORK                23.0\n",
       "NORTH CAROLINA          13.0\n",
       "NORTH DAKOTA             8.0\n",
       "OHIO                     7.0\n",
       "OKLAHOMA                21.0\n",
       "OREGON                   2.0\n",
       "PENNSYLVANIA            28.0\n",
       "RHODE ISLAND             1.0\n",
       "SOUTH CAROLINA          13.0\n",
       "SOUTH DAKOTA             1.0\n",
       "TENNESSEE                2.0\n",
       "TEXAS                   75.0\n",
       "UTAH                     5.0\n",
       "VERMONT                  0.0\n",
       "VIRGINIA                13.0\n",
       "WASHINGTON               9.0\n",
       "WEST VIRGINIA            1.0\n",
       "WISCONSIN               10.0\n",
       "WYOMING                  5.0\n",
       "Name: Total Persons Killed, dtype: float64"
      ]
     },
     "execution_count": 14,
     "metadata": {},
     "output_type": "execute_result"
    }
   ],
   "source": [
    "state_group = data_fatality.groupby(\"State Name\")\n",
    "state_group[\"Total Persons Killed\"].sum()"
   ]
  },
  {
   "cell_type": "markdown",
   "id": "d6413bd5",
   "metadata": {},
   "source": [
    "## 6. Train Accident Associated Factors\n",
    "Question to be addressed:<br/>\n",
    "1. Whether there is relationship between train speed and people injured\n",
    "2. Whether there is relationship between equipment weight and people injured"
   ]
  },
  {
   "cell_type": "code",
   "execution_count": null,
   "id": "7b2cbd81",
   "metadata": {},
   "outputs": [],
   "source": []
  }
 ],
 "metadata": {
  "kernelspec": {
   "display_name": "Python [conda env:bootcamp] *",
   "language": "python",
   "name": "conda-env-bootcamp-py"
  },
  "language_info": {
   "codemirror_mode": {
    "name": "ipython",
    "version": 3
   },
   "file_extension": ".py",
   "mimetype": "text/x-python",
   "name": "python",
   "nbconvert_exporter": "python",
   "pygments_lexer": "ipython3",
   "version": "3.7.13"
  }
 },
 "nbformat": 4,
 "nbformat_minor": 5
}
