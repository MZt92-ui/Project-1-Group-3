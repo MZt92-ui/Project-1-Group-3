{
 "cells": [
  {
   "cell_type": "markdown",
   "id": "aef1e704",
   "metadata": {},
   "source": [
    "# Railroad Accident/Incident Analysis in US\n",
    "\n",
    "\n",
    "\n",
    "#### Data Source:\n",
    "Rail Equipment Accident/Incident Data from FRA in the US Department of Transportation <br/>\n",
    "https://data.transportation.gov/Railroads/Rail-Equipment-Accident-Incident-Data/85tf-25kj"
   ]
  },
  {
   "cell_type": "code",
   "execution_count": 1,
   "id": "7f5a75c2",
   "metadata": {},
   "outputs": [
    {
     "ename": "ModuleNotFoundError",
     "evalue": "No module named 'api_keys'",
     "output_type": "error",
     "traceback": [
      "\u001b[1;31m---------------------------------------------------------------------------\u001b[0m",
      "\u001b[1;31mModuleNotFoundError\u001b[0m                       Traceback (most recent call last)",
      "\u001b[1;32m~\\AppData\\Local\\Temp\\ipykernel_14748\\3714688715.py\u001b[0m in \u001b[0;36m<module>\u001b[1;34m\u001b[0m\n\u001b[0;32m      2\u001b[0m \u001b[1;32mimport\u001b[0m \u001b[0mmatplotlib\u001b[0m\u001b[1;33m.\u001b[0m\u001b[0mpyplot\u001b[0m \u001b[1;32mas\u001b[0m \u001b[0mplt\u001b[0m\u001b[1;33m\u001b[0m\u001b[1;33m\u001b[0m\u001b[0m\n\u001b[0;32m      3\u001b[0m \u001b[1;32mimport\u001b[0m \u001b[0mgmaps\u001b[0m\u001b[1;33m\u001b[0m\u001b[1;33m\u001b[0m\u001b[0m\n\u001b[1;32m----> 4\u001b[1;33m \u001b[1;32mfrom\u001b[0m \u001b[0mapi_keys\u001b[0m \u001b[1;32mimport\u001b[0m \u001b[0mgmap_key\u001b[0m\u001b[1;33m\u001b[0m\u001b[1;33m\u001b[0m\u001b[0m\n\u001b[0m\u001b[0;32m      5\u001b[0m \u001b[0mgmaps\u001b[0m\u001b[1;33m.\u001b[0m\u001b[0mconfigure\u001b[0m\u001b[1;33m(\u001b[0m\u001b[0mapi_key\u001b[0m\u001b[1;33m=\u001b[0m\u001b[0mgmap_key\u001b[0m\u001b[1;33m)\u001b[0m\u001b[1;33m\u001b[0m\u001b[1;33m\u001b[0m\u001b[0m\n\u001b[0;32m      6\u001b[0m \u001b[1;32mfrom\u001b[0m \u001b[0mscipy\u001b[0m\u001b[1;33m.\u001b[0m\u001b[0mstats\u001b[0m \u001b[1;32mimport\u001b[0m \u001b[0mlinregress\u001b[0m\u001b[1;33m\u001b[0m\u001b[1;33m\u001b[0m\u001b[0m\n",
      "\u001b[1;31mModuleNotFoundError\u001b[0m: No module named 'api_keys'"
     ]
    }
   ],
   "source": [
    "import pandas as pd\n",
    "import matplotlib.pyplot as plt\n",
    "import gmaps\n",
    "from api_keys import gmap_key\n",
    "gmaps.configure(api_key=gmap_key)\n",
    "from scipy.stats import linregress"
   ]
  },
  {
   "cell_type": "markdown",
   "id": "f241da0f",
   "metadata": {},
   "source": [
    "## 1. Understanding Data Scope\n",
    "e.g. Year recorded, what type of trains considered, what type of accident recorded<br/>"
   ]
  },
  {
   "cell_type": "code",
   "execution_count": null,
   "id": "1151eb40",
   "metadata": {},
   "outputs": [],
   "source": [
    "data = pd.read_csv(\"../../Test Data/Rail_Equipment_Accident_Incident_Data.csv\")\n",
    "print(f\"There are {data.shape[0]} records availabe and {data.shape[1]} information recorded\")\n",
    "print(\"-------------------------------------------------------\")\n",
    "\n",
    "# available information is listed and explained in the above link\n",
    "year_since = data[\"Report Year\"].min()\n",
    "year_to = data[\"Report Year\"].max()\n",
    "print(f\"The datasets record year from {year_since} to {year_to}\")\n",
    "print(\"-------------------------------------------------------\")\n",
    "print(data[\"Equipment Type\"].unique())\n",
    "print(\"-------------------------------------------------------\")\n",
    "print(data[\"Track Type\"].unique())"
   ]
  },
  {
   "cell_type": "markdown",
   "id": "618ecf59",
   "metadata": {},
   "source": [
    "## 2. Train Accident Overview\n",
    "\n",
    "This section investigates total numbers of accidents and fatalities trending performance over the recent 30 years by using line plots.\n",
    "\n",
    "It shows that both total numbers of accidents and fatalities in US have been decreased in the recent 10 years."
   ]
  },
  {
   "cell_type": "code",
   "execution_count": null,
   "id": "842a2fa3",
   "metadata": {},
   "outputs": [],
   "source": [
    "# get relevant data into dataframe\n",
    "overview_df = data.loc[(data[\"Report Year\"] >= 1992.0) & (data[\"Report Year\"]<=2021.0)]\n",
    "group_year = overview_df.groupby(\"Report Year\")\n",
    "year_acc_no = group_year[[\"Accident Number\"]].count().reset_index()\n",
    "year_fatal_no = group_year[[\"Total Persons Killed\"]].sum().reset_index()"
   ]
  },
  {
   "cell_type": "code",
   "execution_count": null,
   "id": "fb5ae011",
   "metadata": {
    "scrolled": true
   },
   "outputs": [],
   "source": [
    "# draw the line plot\n",
    "fig,ax = plt.subplots(figsize=(10,6))\n",
    "\n",
    "year_acc_no.plot.line(x=\"Report Year\",y=\"Accident Number\",ax=ax,title=\"Train Accidents from 1992 to 2021\")\n",
    "year_fatal_no.plot.line(x=\"Report Year\",y=\"Total Persons Killed\",ax=ax,secondary_y=True,color=\"r\")\n",
    "\n",
    "ax.legend([\"Total Accident No.\"],loc=\"upper left\")\n",
    "ax.right_ax.legend([\"Total Fatality No.\"])\n",
    "ax.set_xlabel(\"Year\")\n",
    "ax.set_ylabel(\"No. of Accidents\")\n",
    "ax.right_ax.set_ylabel(\"No. of Fatality\")\n",
    "ax.grid()\n",
    "\n",
    "plt.savefig(\"Train Accidents from 1992 to 2021.png\")"
   ]
  },
  {
   "cell_type": "code",
   "execution_count": null,
   "id": "77a8233e",
   "metadata": {},
   "outputs": [],
   "source": [
    "# to numerically see whether train become safer\n",
    "acc_10 = year_acc_no.loc[(year_acc_no[\"Report Year\"]>=2012)&(year_acc_no[\"Report Year\"]<=2021)][\"Accident Number\"].mean()\n",
    "acc_20 = year_acc_no.loc[(year_acc_no[\"Report Year\"]>=2001)&(year_acc_no[\"Report Year\"]<=2012)][\"Accident Number\"].mean()\n",
    "acc_30 = year_acc_no.loc[(year_acc_no[\"Report Year\"]>=1992)&(year_acc_no[\"Report Year\"]<=2002)][\"Accident Number\"].mean()\n",
    "print(acc_10,acc_20,acc_30)\n",
    "\n",
    "fat_10 = year_fatal_no.loc[(year_acc_no[\"Report Year\"]>=2012)&(year_fatal_no[\"Report Year\"]<=2021)][\"Total Persons Killed\"].mean()\n",
    "fat_20 = year_fatal_no.loc[(year_acc_no[\"Report Year\"]>=2001)&(year_fatal_no[\"Report Year\"]<=2012)][\"Total Persons Killed\"].mean()\n",
    "fat_30 = year_fatal_no.loc[(year_acc_no[\"Report Year\"]>=1992)&(year_fatal_no[\"Report Year\"]<=2002)][\"Total Persons Killed\"].mean()\n",
    "print(fat_10,fat_20,fat_30)"
   ]
  },
  {
   "cell_type": "markdown",
   "id": "8afac72e",
   "metadata": {},
   "source": [
    "## 3. Train Accident by Cause\n",
    "\n",
    "This section investigates what major causes resulting in the recent 10 years' train accidents in US by using bar plots.\n",
    "\n",
    "Additional data source used: accident cause code<br/>\n",
    "https://railroads.dot.gov/forms-guides-publications/guides/train-accident-cause-codes-file\n",
    "\n",
    "Causes are categoried into human factors, track related, equipment, signal, and miscellaneous like environment related.<br/>\n",
    "It shows that human factor is the major cause for the train accident in the last 10 years."
   ]
  },
  {
   "cell_type": "code",
   "execution_count": null,
   "id": "f6815626",
   "metadata": {},
   "outputs": [],
   "source": [
    "# load the accident cause code data\n",
    "data_cause = pd.read_csv(\"../../Test Data/Appendix C_Train_Accident_Cause_Codes.csv\")[[\"Code\",\"Title\"]]\n",
    "\n",
    "# check whether all recorded code could be found from code list\n",
    "cause_ls = len(data_cause[\"Code\"].unique())\n",
    "record_ls = len(data[\"Primary Accident Cause Code\"].unique())\n",
    "print(f\"There are {cause_ls} kinds of causes in total\")\n",
    "print(\"-------------------------------------------------------\")\n",
    "print(f\"There are {record_ls} kinds of causes recorded\")"
   ]
  },
  {
   "cell_type": "code",
   "execution_count": null,
   "id": "18b077ab",
   "metadata": {},
   "outputs": [],
   "source": [
    "# The above figures imply that each record could find a cause from the reference dataset\n",
    "# however, when further investigating, the format of reference dataset is different from the records\n",
    "# needs further cleaning\n",
    "data_cause = data_cause.dropna()\n",
    "\n",
    "new_code=[]\n",
    "for i in range(len(data_cause.Code)):\n",
    "    new = data_cause[\"Code\"][i][:4]\n",
    "    new_code.append(new)\n",
    "\n",
    "data_cause[\"Primary Accident Cause Code\"] = new_code\n",
    "data2 = data[[\"Report Year\",\"Accident Number\",\"Primary Accident Cause Code\"]]\n",
    "data_cause_ana = pd.merge(data2,data_cause,how=\"left\",on=\"Primary Accident Cause Code\")\n",
    "data_cause_ana.head()"
   ]
  },
  {
   "cell_type": "code",
   "execution_count": null,
   "id": "22086cb3",
   "metadata": {},
   "outputs": [],
   "source": [
    "# bar plot\n",
    "data_cause_plot = data_cause_ana.loc[(data_cause_ana[\"Report Year\"]>=2012)&(data_cause_ana[\"Report Year\"]<=2021)]\n",
    "data_cause_plot1 = data_cause_plot.groupby(\"Title\")[[\"Accident Number\"]].count().sort_values(by=\"Accident Number\",ascending=False)\n",
    "\n",
    "data_cause_plot1.plot.bar(figsize=(10,6))\n",
    "plt.xlabel(\"Causes\")\n",
    "plt.ylabel(\"No. of Accidents\")\n",
    "plt.title(\"Accidents by Causes from 2012 to 2021\")\n",
    "plt.legend(\"\")\n",
    "plt.show()"
   ]
  },
  {
   "cell_type": "code",
   "execution_count": null,
   "id": "904ea3d3",
   "metadata": {},
   "outputs": [],
   "source": [
    "# what specific numbers for primary cause, and its %\n",
    "data_cause_sum = data_cause_plot1.reset_index()\n",
    "human = data_cause_sum.loc[data_cause_sum[\"Title\"]==\"Train operation - Human Factors\"][\"Accident Number\"][0]\n",
    "total = data_cause_sum[\"Accident Number\"].sum()\n",
    "human_per = human / total \n",
    "print(total, human_per)"
   ]
  },
  {
   "cell_type": "markdown",
   "id": "f1d5be37",
   "metadata": {},
   "source": [
    "## 4. Train Accident by Type\n",
    "\n",
    "This section investigates what types of accidents happening in the recent 10 years in US by using bar plots. \n",
    "\n",
    "All accidents can be categorised into 5 different types, including derailment, crossing, collision, obstruction and other impacts.<br/>\n",
    "It shows that most of accidents are derailments."
   ]
  },
  {
   "cell_type": "code",
   "execution_count": null,
   "id": "e59e012d",
   "metadata": {},
   "outputs": [],
   "source": [
    "# explore types of accidents and categories into reasonable segments\n",
    "data[\"Accident Type\"].unique()"
   ]
  },
  {
   "cell_type": "code",
   "execution_count": null,
   "id": "d91c72f3",
   "metadata": {},
   "outputs": [],
   "source": [
    "# There seems to be no standard for categorising types of accidents <br/>\n",
    "# so investigated one year data as an example and some common sense to determine the type\n",
    "de = [\"Derailment\"]\n",
    "ob = [\"Obstruction\"]\n",
    "cr = [\"Hwy-rail crossing\",\"RR grade crossing\"]\n",
    "co = [\"Side collision\",\"Broken train collision\",\"Rear end collision\",\"Head on collision\",\"Raking collision\"]\n",
    "oth = [\"Fire/violent rupture\",\"Explosion-detonation\",\"Other (describe in narrative)\",\"Other impacts\"]\n",
    "\n",
    "data3 = data[[\"Report Year\",\"Accident Number\",\"Accident Type\"]]"
   ]
  },
  {
   "cell_type": "code",
   "execution_count": null,
   "id": "0707fd08",
   "metadata": {},
   "outputs": [],
   "source": [
    "# add types into the dataframe\n",
    "type_list = []\n",
    "\n",
    "for i in range(len(data3[\"Accident Type\"])):\n",
    "    acc_type = data3[\"Accident Type\"][i]\n",
    "    \n",
    "    if acc_type in de:\n",
    "        type_list.append(\"Derailment\")\n",
    "    elif acc_type in ob:\n",
    "        type_list.append(\"Obstruction\")\n",
    "    elif acc_type in cr:\n",
    "        type_list.append(\"Crossing\")\n",
    "    elif acc_type in co:\n",
    "        type_list.append(\"Collision\")\n",
    "    elif acc_type in oth:\n",
    "        type_list.append(\"Other Impacts\")\n",
    "    else:\n",
    "        type_list.append(\"Not Available\")\n",
    "\n",
    "data3[\"Type_cat\"] = type_list"
   ]
  },
  {
   "cell_type": "code",
   "execution_count": null,
   "id": "3e965c8c",
   "metadata": {},
   "outputs": [],
   "source": [
    "# bar plot\n",
    "data_type_ana= data3.loc[(data3[\"Report Year\"]>=2012)&(data3[\"Report Year\"]<=2021)]\n",
    "data_type_plot = data_type_ana.groupby(\"Type_cat\")[[\"Accident Number\"]].count().sort_values(by=\"Accident Number\",ascending=False)\n",
    "\n",
    "data_type_plot.plot.bar(xlabel=\"Type of Accident\",title=\"Accident by Types from 2012 to 2021\",figsize=(10,6))\n",
    "plt.ylabel(\"No. of Accidents\")\n",
    "plt.legend(\"\")\n",
    "plt.show()"
   ]
  },
  {
   "cell_type": "markdown",
   "id": "c6cc9940",
   "metadata": {},
   "source": [
    "## 5. Train Accident by Locations\n",
    "\n",
    "This section investigates:\n",
    "1. locations of accidents in recent 10 years by using a heatmap\n",
    "2. a group-wise topic：how fatality rates are by different vehicles in different states (for this one, my part is contributing data)\n",
    "\n",
    "It shows that a lot of accidents in the recent 10 years happened in the eastern-side of US, including cities like Chicago, New York and Houston."
   ]
  },
  {
   "cell_type": "markdown",
   "id": "ed00a839",
   "metadata": {},
   "source": [
    "### 5.1 Locations of accidents"
   ]
  },
  {
   "cell_type": "code",
   "execution_count": null,
   "id": "a1df0f4b",
   "metadata": {},
   "outputs": [],
   "source": [
    "# explore data\n",
    "data4 = data.loc[(data[\"Report Year\"]>=2012)&(data[\"Report Year\"]<=2021)]\n",
    "location = data4[[\"Latitude\",\"Longitude\"]]\n",
    "\n",
    "lat_range1 = location[\"Latitude\"].min()\n",
    "lat_range2 = location[\"Latitude\"].max()\n",
    "lon_range1 = location[\"Longitude\"].min()\n",
    "lon_range2 = location[\"Longitude\"].max()\n",
    "print(f\"The most north point with latitude of {lat_range1}\")\n",
    "print(f\"The most south point with latitude of {lat_range2}\")\n",
    "print(f\"The most west point with longitude of {lon_range1}\")\n",
    "print(f\"The most east point with longitude of {lon_range2}\")"
   ]
  },
  {
   "cell_type": "code",
   "execution_count": null,
   "id": "0719e697",
   "metadata": {},
   "outputs": [],
   "source": [
    "# it shows that there is wrong data input for Latitude & Longitude\n",
    "location_modified = location.loc[(location[\"Latitude\"]<=90) & (location[\"Longitude\"]>= -180)]\n",
    "fig = gmaps.figure()\n",
    "heat_layer = gmaps.heatmap_layer(location_modified,max_intensity=30,point_radius=0.3,dissipating=False)\n",
    "fig.add_layer(heat_layer)\n",
    "fig"
   ]
  },
  {
   "cell_type": "markdown",
   "id": "e1dc084d",
   "metadata": {},
   "source": [
    "### 5.1 Fatality by state (group-wise topic)"
   ]
  },
  {
   "cell_type": "code",
   "execution_count": null,
   "id": "111aabf9",
   "metadata": {},
   "outputs": [],
   "source": [
    "data_fatality = data[[\"State Name\",\"Report Year\",\"Total Persons Killed\"]]\n",
    "data_fatality = data_fatality.loc[(data_fatality[\"Report Year\"] >= 2010.0) & (data_fatality[\"Report Year\"]<=2020.0) ]\n",
    "state_fatality = data_fatality.groupby(\"State Name\")[\"Total Persons Killed\"].sum()\n",
    "state_fatality.to_csv(\"fatality by state.csv\")"
   ]
  },
  {
   "cell_type": "markdown",
   "id": "1e7ff854",
   "metadata": {},
   "source": [
    "## 6. Fatality Associated Factors\n",
    "\n",
    "This section investigates whether speed is a related factor to fatality rates,\n",
    "\n",
    "Speed is segmented into 4 ranges based on below info: <br/>\n",
    "https://worldwiderails.com/how-fast-do-trains-go/<br/>\n",
    "https://www.quora.com/What-is-the-average-speed-of-trains<br/>\n",
    "\n",
    "It shows that even different speed ranges are tested, there is no correlation between speed and total people killed."
   ]
  },
  {
   "cell_type": "code",
   "execution_count": null,
   "id": "cea8868d",
   "metadata": {},
   "outputs": [],
   "source": [
    "print(data[\"Train Speed\"].min())\n",
    "print(data[\"Train Speed\"].max())\n",
    "print(data[\"Train Speed\"].count())"
   ]
  },
  {
   "cell_type": "markdown",
   "id": "6c222df3",
   "metadata": {},
   "source": [
    "\n",
    "There is one record with train speed over 500mph,<br/>\n",
    "according to below article:<br/>\n",
    "https://www.visualcapitalist.com/visualizing-the-fastest-trains-in-the-world/#:~:text=Japan's%20L0%20Series%20Maglev%20is,largest%20high%2Dspeed%20railway%20network.<br/>\n",
    "\n",
    "It is very likely this record is wrong."
   ]
  },
  {
   "cell_type": "code",
   "execution_count": null,
   "id": "ab369f58",
   "metadata": {
    "scrolled": true
   },
   "outputs": [],
   "source": [
    "# clean and get data\n",
    "data5 = data.loc[data[\"Train Speed\"] < 400]\n",
    "data_killed = data5[[\"Train Speed\",\"Total Persons Killed\"]]\n",
    "\n",
    "# further segment speed to test\n",
    "bins = [0,30,60,100,130]\n",
    "label = [\"0-30mph\", \"31-60mph\",\"61-100mph\",\"over 100mph\"]\n",
    "speed_range = pd.cut(data_killed[\"Train Speed\"],bins=bins,labels=label,include_lowest=True)\n",
    "data_killed[\"Speed Range\"] = speed_range\n",
    "data_killed.head()"
   ]
  },
  {
   "cell_type": "code",
   "execution_count": null,
   "id": "662bf629",
   "metadata": {
    "scrolled": true
   },
   "outputs": [],
   "source": [
    "speed_low = data_killed.loc[data_killed[\"Speed Range\"]==\"0-30mph\"][\"Train Speed\"]\n",
    "killed_low = data_killed.loc[data_killed[\"Speed Range\"]==\"0-30mph\"][\"Total Persons Killed\"]\n",
    "plt.scatter(speed_low,killed_low)\n",
    "print(f\"r value is {linregress(speed_low,killed_low)[2]}\")\n",
    "plt.title(\"0 - 30MPH\")\n",
    "plt.xlabel(\"Train Speed (mph)\")\n",
    "plt.ylabel(\"No of people killed\")\n",
    "plt.show()"
   ]
  },
  {
   "cell_type": "code",
   "execution_count": null,
   "id": "5b256e16",
   "metadata": {},
   "outputs": [],
   "source": [
    "speed_2 = data_killed.loc[data_killed[\"Speed Range\"]==\"31-60mph\"][\"Train Speed\"]\n",
    "killed_2 = data_killed.loc[data_killed[\"Speed Range\"]==\"31-60mph\"][\"Total Persons Killed\"]\n",
    "plt.scatter(speed_2,killed_2)\n",
    "print(f\"r value is {linregress(speed_2,killed_2)[2]}\")\n",
    "plt.title(\"31 - 60MPH\")\n",
    "plt.xlabel(\"Train Speed (mph)\")\n",
    "plt.ylabel(\"No of people killed\")\n",
    "plt.show()"
   ]
  },
  {
   "cell_type": "code",
   "execution_count": null,
   "id": "d2d371d8",
   "metadata": {},
   "outputs": [],
   "source": [
    "speed_3 = data_killed.loc[data_killed[\"Speed Range\"]==\"61-100mph\"][\"Train Speed\"]\n",
    "killed_3 = data_killed.loc[data_killed[\"Speed Range\"]==\"61-100mph\"][\"Total Persons Killed\"]\n",
    "plt.scatter(speed_3,killed_3)\n",
    "print(f\"r value is {linregress(speed_3,killed_3)[2]}\")\n",
    "plt.title(\"61 - 100MPH\")\n",
    "plt.xlabel(\"Train Speed (mph)\")\n",
    "plt.ylabel(\"No of people killed\")\n",
    "plt.show()"
   ]
  },
  {
   "cell_type": "code",
   "execution_count": null,
   "id": "45ccd04b",
   "metadata": {},
   "outputs": [],
   "source": [
    "speed_4 = data_killed.loc[data_killed[\"Speed Range\"]==\"over 100mph\"][\"Train Speed\"]\n",
    "killed_4 = data_killed.loc[data_killed[\"Speed Range\"]==\"over 100mph\"][\"Total Persons Killed\"]\n",
    "plt.scatter(speed_4,killed_4)\n",
    "print(f\"r value is {linregress(speed_4,killed_4)[2]}\")\n",
    "plt.title(\"Over 100MPH\")\n",
    "plt.xlabel(\"Train Speed (mph)\")\n",
    "plt.ylabel(\"No of people killed\")\n",
    "plt.show()"
   ]
  }
 ],
 "metadata": {
  "kernelspec": {
   "display_name": "Python [conda env:bootcamp] *",
   "language": "python",
   "name": "conda-env-bootcamp-py"
  },
  "language_info": {
   "codemirror_mode": {
    "name": "ipython",
    "version": 3
   },
   "file_extension": ".py",
   "mimetype": "text/x-python",
   "name": "python",
   "nbconvert_exporter": "python",
   "pygments_lexer": "ipython3",
   "version": "3.7.13"
  }
 },
 "nbformat": 4,
 "nbformat_minor": 5
}
