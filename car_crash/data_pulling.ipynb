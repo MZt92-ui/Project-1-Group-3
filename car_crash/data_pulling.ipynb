{
 "cells": [
  {
   "cell_type": "code",
   "execution_count": 16,
   "metadata": {},
   "outputs": [],
   "source": [
    "import json\n",
    "import string\n",
    "import requests\n",
    "from requests.exceptions import Timeout\n",
    "from pprint import pprint\n",
    "import numpy as np\n",
    "import matplotlib.pyplot as plt\n",
    "import pandas as pd\n",
    "from datetime import datetime\n",
    "from scipy.stats import linregress\n",
    "import csv \n",
    "import io\n"
   ]
  },
  {
   "cell_type": "code",
   "execution_count": 47,
   "metadata": {},
   "outputs": [
    {
     "name": "stdout",
     "output_type": "stream",
     "text": [
      "2010\n",
      "2011\n",
      "2012\n",
      "2013\n",
      "2014\n",
      "2015\n",
      "2016\n",
      "2017\n",
      "2018\n",
      "2019\n",
      "2020\n",
      "2021\n",
      "2010\n",
      "2011\n",
      "2012\n",
      "2013\n",
      "2014\n",
      "2015\n",
      "2016\n",
      "2017\n",
      "2018\n",
      "2019\n",
      "2020\n",
      "2021\n",
      "2010\n",
      "2011\n",
      "2012\n",
      "2013\n",
      "2014\n",
      "2015\n",
      "2016\n",
      "2017\n",
      "2018\n",
      "2019\n",
      "2020\n",
      "2021\n",
      "2010\n"
     ]
    },
    {
     "name": "stderr",
     "output_type": "stream",
     "text": [
      "c:\\Users\\datqu\\anaconda3\\envs\\bootcamp\\lib\\site-packages\\IPython\\core\\interactiveshell.py:3457: DtypeWarning: Columns (17) have mixed types.Specify dtype option on import or set low_memory=False.\n",
      "  exec(code_obj, self.user_global_ns, self.user_ns)\n"
     ]
    },
    {
     "name": "stdout",
     "output_type": "stream",
     "text": [
      "2011\n",
      "2012\n",
      "2013\n",
      "2014\n",
      "2015\n"
     ]
    },
    {
     "name": "stderr",
     "output_type": "stream",
     "text": [
      "c:\\Users\\datqu\\anaconda3\\envs\\bootcamp\\lib\\site-packages\\IPython\\core\\interactiveshell.py:3457: DtypeWarning: Columns (17,32) have mixed types.Specify dtype option on import or set low_memory=False.\n",
      "  exec(code_obj, self.user_global_ns, self.user_ns)\n"
     ]
    },
    {
     "name": "stdout",
     "output_type": "stream",
     "text": [
      "2016\n",
      "2017\n",
      "2018\n",
      "2019\n",
      "2020\n",
      "2021\n",
      "2010\n",
      "2011\n",
      "2012\n",
      "2013\n",
      "2014\n",
      "2015\n",
      "2016\n",
      "2017\n",
      "2018\n",
      "2019\n",
      "2020\n",
      "2021\n",
      "2010\n",
      "2011\n",
      "2012\n",
      "2013\n",
      "2014\n",
      "2015\n",
      "2016\n",
      "2017\n",
      "2018\n",
      "2019\n",
      "2020\n",
      "2021\n"
     ]
    }
   ],
   "source": [
    "######get fatality data \n",
    "#beginning year\n",
    "\n",
    "#/FARSData/GetFARSData?dataset=Accident&FromYear=2014&ToYear=2016&State=1&format=csv\n",
    "\n",
    "dataset = ['Accident','CEVENT','DRUGS','DISTRACT','DRIMPAIR','MANEUVER','PERSON','VIOLATION','VISION']\n",
    "baseurl = 'https://crashviewer.nhtsa.dot.gov/CrashAPI/FARSData/GetFARSData'\n",
    "\n",
    "for x in dataset:\n",
    "    yearloop = 2010\n",
    "    params = {'states':'1,51',\n",
    "            'FromYear':yearloop,\n",
    "            'ToYear':yearloop,\n",
    "            'dataset':x,\n",
    "            'format':'csv'}\n",
    "    for i in range (12):\n",
    "        #wait up to 70 seconds for responding data\n",
    "        try:\n",
    "            response = requests.get(baseurl,params=params,timeout=(10,70))\n",
    "        except Timeout:\n",
    "            print('The request timed out')\n",
    "\n",
    "        if response.status_code !=200:\n",
    "            print('There is error')\n",
    "        else:\n",
    "            #get response as CSV\n",
    "            response.encoding = response.apparent_encoding\n",
    "            #get data in string\n",
    "            content = response.text\n",
    "            print(yearloop)\n",
    "            #convert string to pandas dataframe\n",
    "            temp_data = pd.read_csv(io.StringIO(content))\n",
    "            if i ==0:\n",
    "                #response_json = response.iter_lines()\n",
    "                #save data to fatality_data if 1st data\n",
    "                fatality_data = pd.read_csv(io.StringIO(content))           \n",
    "            else:\n",
    "                #response_json = response.iter_lines()\n",
    "                #append 2nd data point on ward to fatality_data\n",
    "                temp_data = pd.read_csv(io.StringIO(content))\n",
    "                fatality_data = pd.concat([fatality_data,temp_data],ignore_index=True) \n",
    "        #update parameter for next year\n",
    "        yearloop += 1\n",
    "        params = {'states':'1,51',\n",
    "            'FromYear':yearloop,\n",
    "            'ToYear':yearloop,\n",
    "            'dataset':x,\n",
    "            'format':'csv'}\n",
    "\n",
    "    #export final data to csv\n",
    "    fatality_data.to_csv(f'data/{x}.csv',index=False)"
   ]
  }
 ],
 "metadata": {
  "kernelspec": {
   "display_name": "Python 3.7.13 ('bootcamp')",
   "language": "python",
   "name": "python3"
  },
  "language_info": {
   "codemirror_mode": {
    "name": "ipython",
    "version": 3
   },
   "file_extension": ".py",
   "mimetype": "text/x-python",
   "name": "python",
   "nbconvert_exporter": "python",
   "pygments_lexer": "ipython3",
   "version": "3.7.13"
  },
  "orig_nbformat": 4,
  "vscode": {
   "interpreter": {
    "hash": "a7c284f6c3454d9296f827a682b0575908dd97079acfefde70d6f996863eb3eb"
   }
  }
 },
 "nbformat": 4,
 "nbformat_minor": 2
}
