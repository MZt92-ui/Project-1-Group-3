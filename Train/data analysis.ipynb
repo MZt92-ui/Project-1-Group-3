{
 "cells": [
  {
   "cell_type": "markdown",
   "id": "c1130c1d",
   "metadata": {},
   "source": [
    "# Railroad Accident/Incident Analysis in US\n",
    "\n",
    "\n",
    "\n",
    "#### Data Source:\n",
    "Rail Equipment Accident/Incident Data from FRA in the US Department of Transportation <br/>\n",
    "https://data.transportation.gov/Railroads/Rail-Equipment-Accident-Incident-Data/85tf-25kj"
   ]
  },
  {
   "cell_type": "code",
   "execution_count": 21,
   "id": "73015389",
   "metadata": {},
   "outputs": [],
   "source": [
    "import pandas as pd\n",
    "import matplotlib.pyplot as plt"
   ]
  },
  {
   "cell_type": "markdown",
   "id": "f241da0f",
   "metadata": {},
   "source": [
    "## 1. Data Investigation\n",
    "Scope of data:<br/>\n",
    "1. Year recorded<br/>\n",
    "2. what type of trains considered<br/>\n",
    "3. what type of accident recorded<br/>"
   ]
  },
  {
   "cell_type": "code",
   "execution_count": 18,
   "id": "1151eb40",
   "metadata": {},
   "outputs": [
    {
     "name": "stdout",
     "output_type": "stream",
     "text": [
      "There are 214157 records availabe and 159 information recorded\n",
      "-------------------------------------------------------\n",
      "The datasets record year from 1975.0 to 2022.0\n",
      "-------------------------------------------------------\n",
      "['Fire/violent rupture' 'Other impacts' 'Side collision' 'Derailment'\n",
      " 'Broken train collision' 'Hwy-rail crossing'\n",
      " 'Other (describe in narrative)' 'Rear end collision' 'Obstruction'\n",
      " 'Head on collision' 'Explosion-detonation' 'Raking collision'\n",
      " 'RR grade crossing' nan]\n",
      "-------------------------------------------------------\n",
      "['Passenger Train - Pulling' 'Single Car' 'Freight Train' 'Yard/switching'\n",
      " 'Light loco(s)' 'Cut of cars' nan 'Passenger Train - Pushing'\n",
      " 'Maint./inspect Car' 'EMU' 'Work train' 'Spec. MoW Equip.'\n",
      " 'Commuter Train - Pulling' 'Commuter Train - Pushing' 'DMU']\n",
      "-------------------------------------------------------\n",
      "['Main' 'Yard' 'Industry' nan 'Siding']\n"
     ]
    }
   ],
   "source": [
    "data = pd.read_csv(\"../../Test Data/Rail_Equipment_Accident_Incident_Data.csv\")\n",
    "print(f\"There are {data.shape[0]} records availabe and {data.shape[1]} information recorded\")\n",
    "print(\"-------------------------------------------------------\")\n",
    "# available information is listed and explained in the above link\n",
    "year_since = data[\"Report Year\"].min()\n",
    "year_to = data[\"Report Year\"].max()\n",
    "print(f\"The datasets record year from {year_since} to {year_to}\")\n",
    "print(\"-------------------------------------------------------\")\n",
    "print(data[\"Accident Type\"].unique())\n",
    "print(\"-------------------------------------------------------\")\n",
    "print(data[\"Equipment Type\"].unique())\n",
    "print(\"-------------------------------------------------------\")\n",
    "print(data[\"Track Type\"].unique())"
   ]
  },
  {
   "cell_type": "markdown",
   "id": "daa08148",
   "metadata": {},
   "source": [
    "## 2. Train Accident Overview\n",
    "Question to be addressed:<br/>\n",
    "Whether there is any improvement on reducing train accidents no during recent years?"
   ]
  },
  {
   "cell_type": "code",
   "execution_count": 25,
   "id": "10d4b820",
   "metadata": {},
   "outputs": [
    {
     "data": {
      "image/png": "[encoded data removed]",
      "text/plain": [
       "<Figure size 432x288 with 1 Axes>"
      ]
     },
     "metadata": {
      "needs_background": "light"
     },
     "output_type": "display_data"
    }
   ],
   "source": [
    "overview_df = data.loc[(data[\"Report Year\"] >= 2002.0) & (data[\"Report Year\"]<=2021.0)]\n",
    "group_year = overview_df.groupby(\"Report Year\")\n",
    "group_year[[\"Accident Number\"]].count().plot(kind=\"bar\")\n",
    "plt.show()\n",
    "# xlabel delet zero"
   ]
  },
  {
   "cell_type": "markdown",
   "id": "a3cfe2f2",
   "metadata": {},
   "source": [
    "## 3. Train Accident by Cause\n",
    "Question to be addressed:<br/>\n",
    "What is the major train causes during recent years?"
   ]
  },
  {
   "cell_type": "markdown",
   "id": "a8b00dd5",
   "metadata": {},
   "source": [
    "## 4. Train Accident by Type\n",
    "Question to be addressed:<br/>\n",
    "What is the primary accident types during recent years?"
   ]
  },
  {
   "cell_type": "markdown",
   "id": "b983a4e3",
   "metadata": {},
   "source": [
    "## 5. Train Accident in States\n",
    "Question to be addressed:<br/>\n",
    "Which state has the most accident happended in recent years?"
   ]
  },
  {
   "cell_type": "markdown",
   "id": "e1dc084d",
   "metadata": {},
   "source": [
    "### 5.1 Fatality by state\n",
    "\n",
    "#### Period\" for last 11 years: 2010 - 2020"
   ]
  },
  {
   "cell_type": "code",
   "execution_count": 9,
   "id": "111aabf9",
   "metadata": {},
   "outputs": [
    {
     "data": {
      "text/html": [
       "<div>\n",
       "<style scoped>\n",
       "    .dataframe tbody tr th:only-of-type {\n",
       "        vertical-align: middle;\n",
       "    }\n",
       "\n",
       "    .dataframe tbody tr th {\n",
       "        vertical-align: top;\n",
       "    }\n",
       "\n",
       "    .dataframe thead th {\n",
       "        text-align: right;\n",
       "    }\n",
       "</style>\n",
       "<table border=\"1\" class=\"dataframe\">\n",
       "  <thead>\n",
       "    <tr style=\"text-align: right;\">\n",
       "      <th></th>\n",
       "      <th>State Name</th>\n",
       "      <th>Report Year</th>\n",
       "      <th>Total Persons Killed</th>\n",
       "    </tr>\n",
       "  </thead>\n",
       "  <tbody>\n",
       "    <tr>\n",
       "      <th>0</th>\n",
       "      <td>ALASKA</td>\n",
       "      <td>2011.0</td>\n",
       "      <td>0.0</td>\n",
       "    </tr>\n",
       "    <tr>\n",
       "      <th>1</th>\n",
       "      <td>ALABAMA</td>\n",
       "      <td>2010.0</td>\n",
       "      <td>0.0</td>\n",
       "    </tr>\n",
       "    <tr>\n",
       "      <th>5</th>\n",
       "      <td>ALABAMA</td>\n",
       "      <td>2010.0</td>\n",
       "      <td>0.0</td>\n",
       "    </tr>\n",
       "    <tr>\n",
       "      <th>6</th>\n",
       "      <td>ALABAMA</td>\n",
       "      <td>2010.0</td>\n",
       "      <td>0.0</td>\n",
       "    </tr>\n",
       "    <tr>\n",
       "      <th>8</th>\n",
       "      <td>ALABAMA</td>\n",
       "      <td>2013.0</td>\n",
       "      <td>0.0</td>\n",
       "    </tr>\n",
       "  </tbody>\n",
       "</table>\n",
       "</div>"
      ],
      "text/plain": [
       "  State Name  Report Year  Total Persons Killed\n",
       "0     ALASKA       2011.0                   0.0\n",
       "1    ALABAMA       2010.0                   0.0\n",
       "5    ALABAMA       2010.0                   0.0\n",
       "6    ALABAMA       2010.0                   0.0\n",
       "8    ALABAMA       2013.0                   0.0"
      ]
     },
     "execution_count": 9,
     "metadata": {},
     "output_type": "execute_result"
    }
   ],
   "source": [
    "data_fatality = data[[\"State Name\",\"Report Year\",\"Total Persons Killed\"]]\n",
    "data_fatality = data_fatality.loc[(data_fatality[\"Report Year\"] >= 2010.0) & (data_fatality[\"Report Year\"]<=2020.0) ]\n",
    "data_fatality.head()"
   ]
  },
  {
   "cell_type": "code",
   "execution_count": 14,
   "id": "52d32d37",
   "metadata": {},
   "outputs": [
    {
     "data": {
      "text/plain": [
       "State Name\n",
       "ALABAMA                 18.0\n",
       "ALASKA                   0.0\n",
       "ARIZONA                  8.0\n",
       "ARKANSAS                11.0\n",
       "CALIFORNIA              82.0\n",
       "COLORADO                17.0\n",
       "CONNECTICUT              0.0\n",
       "DELAWARE                 0.0\n",
       "DISTRICT OF COLUMBIA     0.0\n",
       "FLORIDA                 70.0\n",
       "GEORGIA                 12.0\n",
       "IDAHO                    5.0\n",
       "ILLINOIS                50.0\n",
       "INDIANA                 21.0\n",
       "IOWA                     8.0\n",
       "KANSAS                   9.0\n",
       "KENTUCKY                 5.0\n",
       "LOUISIANA               21.0\n",
       "MAINE                    2.0\n",
       "MARYLAND                 7.0\n",
       "MASSACHUSETTS            5.0\n",
       "MICHIGAN                 8.0\n",
       "MINNESOTA               12.0\n",
       "MISSISSIPPI             24.0\n",
       "MISSOURI                10.0\n",
       "MONTANA                  9.0\n",
       "NEBRASKA                 5.0\n",
       "NEVADA                  12.0\n",
       "NEW HAMPSHIRE            0.0\n",
       "NEW JERSEY               7.0\n",
       "NEW MEXICO               7.0\n",
       "NEW YORK                23.0\n",
       "NORTH CAROLINA          13.0\n",
       "NORTH DAKOTA             8.0\n",
       "OHIO                     7.0\n",
       "OKLAHOMA                21.0\n",
       "OREGON                   2.0\n",
       "PENNSYLVANIA            28.0\n",
       "RHODE ISLAND             1.0\n",
       "SOUTH CAROLINA          13.0\n",
       "SOUTH DAKOTA             1.0\n",
       "TENNESSEE                2.0\n",
       "TEXAS                   75.0\n",
       "UTAH                     5.0\n",
       "VERMONT                  0.0\n",
       "VIRGINIA                13.0\n",
       "WASHINGTON               9.0\n",
       "WEST VIRGINIA            1.0\n",
       "WISCONSIN               10.0\n",
       "WYOMING                  5.0\n",
       "Name: Total Persons Killed, dtype: float64"
      ]
     },
     "execution_count": 14,
     "metadata": {},
     "output_type": "execute_result"
    }
   ],
   "source": [
    "state_group = data_fatality.groupby(\"State Name\")\n",
    "state_group[\"Total Persons Killed\"].sum()"
   ]
  },
  {
   "cell_type": "markdown",
   "id": "c9832c09",
   "metadata": {},
   "source": [
    "## 6. Train Accident Associated Factors\n",
    "Question to be addressed:<br/>\n",
    "1. Whether there is relationship between train speed and people injured\n",
    "2. Whether there is relationship between equipment weight and people injured"
   ]
  },
  {
   "cell_type": "code",
   "execution_count": null,
   "id": "9e679339",
   "metadata": {},
   "outputs": [],
   "source": []
  }
 ],
 "metadata": {
  "kernelspec": {
   "display_name": "Python [conda env:bootcamp] *",
   "language": "python",
   "name": "conda-env-bootcamp-py"
  },
  "language_info": {
   "codemirror_mode": {
    "name": "ipython",
    "version": 3
   },
   "file_extension": ".py",
   "mimetype": "text/x-python",
   "name": "python",
   "nbconvert_exporter": "python",
   "pygments_lexer": "ipython3",
   "version": "3.7.13"
  }
 },
 "nbformat": 4,
 "nbformat_minor": 5
}
